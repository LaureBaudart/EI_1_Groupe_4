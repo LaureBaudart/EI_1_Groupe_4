{
 "cells": [
  {
   "cell_type": "markdown",
   "metadata": {},
   "source": [
    "<table border=\"1\" cellpadding=\"5\" cellspacing=\"0\" width=\"100%\">\n",
    "   <tr>\n",
    "      <td align=\"left\" valign=\"top\" width=\"120\"><img src=\"./pictures/octopeek-logo.png\" width=\"120\" /></td>   \n",
    "      <td valign=\"top\" width=\"100%\" align=\"center\"><h1><font color=\"blue\">Enseignement d'Intégration - Sujet Octopeek</font></h1>\n",
    "      <p align=\"right\"><h2>Analyse de sentiments sur des Tweets</h2></p>\n",
    "      <p align=\"right\"><h2>date : 08 au 12 juin 2020</p></h2></td>   \n",
    "   </tr>\n",
    "</table>"
   ]
  },
  {
   "cell_type": "markdown",
   "metadata": {},
   "source": [
    "# Collecte de données Twitter\n",
    "\n",
    "Ce notebook a pour objectif la collecte des données pour votre analyse"
   ]
  },
  {
   "cell_type": "markdown",
   "metadata": {},
   "source": [
    "## Création d'une application Twitter\n",
    "\n",
    "Pour accéder à l'API Twitter, vous devez créer un compte développeur :\n",
    "\n",
    "<https://developer.twitter.com/en/apply-for-access>\n",
    "\n",
    "Il sera associé à un compte Twitter (donc si vous n'en avez pas déjà un, il faudra le créer avant le compte développeur).\n",
    "\n",
    "Puis vous créez une \"application\" (il faut chercher à partir de l'interface développeur). Vous devez entrer des informations concernant l'application afin que celle-ci soit validée par Twitter (c'est assez rapide en général). Expliquez (sur le formulaire ou en répondant au mail de Twitter) qu'elle est destinée à de l'analyse de données pour un projet étudiant sur l'analyse de sentiment. N'hésitez pas à bien détailler même si ce n'est pas tout à fait exacte. Vos réponses doivent être uniques afin que Twitter puisse valider en toute confiance votre application."
   ]
  },
  {
   "cell_type": "markdown",
   "metadata": {},
   "source": [
    "## Instanciation de l'API Twitter"
   ]
  },
  {
   "cell_type": "code",
   "execution_count": null,
   "metadata": {},
   "outputs": [],
   "source": [
    "# Installation de tweepy :\n",
    "!pip install tweepy"
   ]
  },
  {
   "cell_type": "code",
   "execution_count": null,
   "metadata": {},
   "outputs": [],
   "source": [
    "# Ajout de vos identifiants et tokens (il y a un bouton qui vous permet de les générer sur le site web) :\n",
    "consumer_key = 'xxx'\n",
    "consumer_secret = 'xxx'\n",
    "access_token = 'xxx'\n",
    "access_token_secret = 'xxx'"
   ]
  },
  {
   "cell_type": "code",
   "execution_count": null,
   "metadata": {},
   "outputs": [],
   "source": [
    "# En utilisant la documentation de Tweepy, importez `tweepy` et initialisez une instance de `tweepy.API` :\n"
   ]
  },
  {
   "cell_type": "markdown",
   "metadata": {},
   "source": [
    "<div class=\"alert alert-block alert-success\">\n",
    "Vous trouverez toutes les informations nécessaires sur la <a href=\"http://docs.tweepy.org/en/latest/getting_started.html#hello-tweepy\">documentation de Tweepy</a>\n",
    "</div>"
   ]
  },
  {
   "cell_type": "markdown",
   "metadata": {},
   "source": [
    "## Récolte des tweets"
   ]
  },
  {
   "cell_type": "markdown",
   "metadata": {},
   "source": [
    "Récoltez au moins 20 000 tweets à partir de différentes requêtes que vous aurez établies en fonction des objectifs du projet. Utilisez [l'API search](http://docs.tweepy.org/en/latest/api.html#help-methods). Plus vous aurez de tweets, plus vos analyses seront fiables. Vous pouvez laisser tourner la récolte plusieurs heures.\n",
    "\n",
    "Vous stockerez les tweets dans un dictionnaire avec comme clef les identifiants de tweets et comme valeur [l'objet Tweet](https://developer.twitter.com/en/docs/tweets/data-dictionary/overview/tweet-object). N'oubliez pas de filtrer en langue anglaise. Utilisez un `Cursor` en cherchant dans la documentation Tweepy ou en trouvant des exemples. Vous aurez également besoin des [opérateurs](https://developer.twitter.com/en/docs/tweets/rules-and-filtering/overview/standard-operators) de recherche (e.g. les guillemets, le `OR`, l'opération `-`). Cherchez comment exclure les *retweets*\n",
    "\n",
    "Ensuite vous devez éliminer les redondances, par exemple si un même tweet revient pour 2 requetes différentes."
   ]
  },
  {
   "cell_type": "code",
   "execution_count": null,
   "metadata": {},
   "outputs": [],
   "source": [
    "# Votre code :\n"
   ]
  },
  {
   "cell_type": "markdown",
   "metadata": {},
   "source": [
    "## Élagage des données"
   ]
  },
  {
   "cell_type": "markdown",
   "metadata": {},
   "source": [
    "Conservez uniquement les informations nécessaires à vos analyses (e.g. `id`, `text`, `created_at`, `retweet_count`, `favorite_count`). Vous devez utiliser les attributs de [l'objet Tweet](https://developer.twitter.com/en/docs/tweets/data-dictionary/overview/tweet-object). "
   ]
  },
  {
   "cell_type": "code",
   "execution_count": null,
   "metadata": {},
   "outputs": [],
   "source": [
    "# Élagage :\n"
   ]
  },
  {
   "cell_type": "markdown",
   "metadata": {},
   "source": [
    "## Sauvegarde des données\n",
    "\n",
    "Sauvegardez vos tweets avec pickle. L'objet sauvegardé doit être une liste de dictionnaires contenants au moins les champs `id` et `texte`. Exemple : `[{'text': 'Text of the first tweet.', 'id': 10}, {'text': 'Text of the second tweet.', 'id': 11}, ...]`.\n",
    "\n",
    "Votre fichier se nommera `group<X>_<dataname>_projectdata.pickle` avec `X` le numéro de votre groupe et `dataname` le nom de votre projet en enlevant les chevrons."
   ]
  },
  {
   "cell_type": "code",
   "execution_count": null,
   "metadata": {},
   "outputs": [],
   "source": [
    "# Sauvegarde des données en .pickle:\n"
   ]
  },
  {
   "cell_type": "markdown",
   "metadata": {},
   "source": [
    "<div class=\"alert alert-block alert-success\">\n",
    "Lorsque vous ne connaissez pas un outil ou une notion, le premier réflèxe que vous devez avoir est de <b>comprendre</b> et <b>trouver des exemples</b>. Pour la sauvegarde pickle, vous chercherez par exemple \"pickle\" sur un moteur de recherche et vous trouverez la <a href=\"https://docs.python.org/3/library/pickle.html\">documentation</a> ou des <a href=\"https://yasoob.me/2013/08/02/what-is-pickle-in-python\">articles expliquant son utilisation</a>. Lorsqu'il s'agit de traitements basiques comme pour la sauvegarde pickle, vous chercherez des exemples à copier en tapant par exemple \"How to pickle a list?\", vous trouverez alors des <a href=\"https://stackoverflow.com/questions/25464295/how-to-pickle-a-list/25465148\">solutions</a>, souvent sur le site *StackOverflow*.\n",
    "</div>"
   ]
  }
 ],
 "metadata": {
  "kernelspec": {
   "display_name": "Python 3",
   "language": "python",
   "name": "python3"
  },
  "language_info": {
   "codemirror_mode": {
    "name": "ipython",
    "version": 3
   },
   "file_extension": ".py",
   "mimetype": "text/x-python",
   "name": "python",
   "nbconvert_exporter": "python",
   "pygments_lexer": "ipython3",
   "version": "3.6.6"
  }
 },
 "nbformat": 4,
 "nbformat_minor": 2
}
